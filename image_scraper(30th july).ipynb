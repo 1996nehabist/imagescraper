{
 "cells": [
  {
   "cell_type": "code",
   "execution_count": 17,
   "id": "75fa011b",
   "metadata": {},
   "outputs": [],
   "source": [
    "import requests\n",
    "import logging\n",
    "import os\n",
    "from bs4 import BeautifulSoup\n",
    "from urllib.request import urlopen"
   ]
  },
  {
   "cell_type": "code",
   "execution_count": 18,
   "id": "cf97da73",
   "metadata": {},
   "outputs": [],
   "source": [
    "save_dir=\"images/\"\n",
    "if not os.path.exists(save_dir):\n",
    "    os.makedirs(save_dir)"
   ]
  },
  {
   "cell_type": "code",
   "execution_count": 19,
   "id": "de403931",
   "metadata": {},
   "outputs": [],
   "source": [
    "query=\"elon musk\"\n",
    "#url=https://www.google.com/search?q=query&rlz=1C1CHBF_enIN918IN918&oq=elon+musk&aqs=chrome.0.0i271j46i433i512j0i433i512l3j46i433i512j0i131i433i650j0i433i512l2j0i131i433i512.2815j0j7&sourceid=chrome&ie=UTF-8"
   ]
  },
  {
   "cell_type": "code",
   "execution_count": 20,
   "id": "189be8ce",
   "metadata": {},
   "outputs": [],
   "source": [
    "response = requests.get(f\"https://www.google.com/search?sca_esv=564584496&rlz=1C1CHBF_enIN918IN918&sxsrf=AB5stBgkVVTkREY-cmoEaLqnVqkNVngaTw:1694493526260&q={query}&tbm=isch&source=lnms&sa=X&ved=2ahUKEwjut9OloKSBAxUsSGwGHdSmCGUQ0pQJegQIDRAB&biw=1280&bih=563&dpr=1.5\")"
   ]
  },
  {
   "cell_type": "code",
   "execution_count": 21,
   "id": "8a1fe873",
   "metadata": {},
   "outputs": [
    {
     "data": {
      "text/plain": [
       "<Response [200]>"
      ]
     },
     "execution_count": 21,
     "metadata": {},
     "output_type": "execute_result"
    }
   ],
   "source": [
    "response"
   ]
  },
  {
   "cell_type": "code",
   "execution_count": 22,
   "id": "9518b294",
   "metadata": {},
   "outputs": [],
   "source": [
    "soup = BeautifulSoup(response.content,\"html.parser\")   # we use it to fetch the html content"
   ]
  },
  {
   "cell_type": "code",
   "execution_count": 23,
   "id": "0fa4d778",
   "metadata": {
    "scrolled": false
   },
   "outputs": [
    {
     "data": {
      "text/plain": [
       "<!DOCTYPE html PUBLIC \"-//WAPFORUM//DTD XHTML Mobile 1.0//EN\" \"http://www.wapforum.org/DTD/xhtml-mobile10.dtd\">\n",
       "<html lang=\"en-IN\" xmlns=\"http://www.w3.org/1999/xhtml\"><head><meta content=\"application/xhtml+xml; charset=utf-8\" http-equiv=\"Content-Type\"/><meta content=\"no-cache\" name=\"Cache-Control\"/><title>elon musk - Google Search</title><style>a{text-decoration:none;color:inherit}a:hover{text-decoration:underline}a img{border:0}body{font-family:arial,sans-serif;padding:8px;margin:0 auto;max-width:700px;min-width:240px;}.FbhRzb{border-left:thin solid #dadce0;border-right:thin solid #dadce0;border-top:thin solid #dadce0;height:40px;overflow:hidden}.n692Zd{margin-bottom:10px}.cvifge{height:40px;border-spacing:0}.QvGUP{height:40px;padding:0 8px 0 8px;vertical-align:top}.O4cRJf{height:40px;width:100%;padding:0;padding-right:16px}.O1ePr{height:40px;padding:0;vertical-align:top}.kgJEQe{height:36px;width:98px;vertical-align:top;margin-top:4px}.lXLRf{vertical-align:top}.MhzMZd{border:0;vertical-align:middle;font-size:14px;height:40px;padding:0;width:100%;padding-left:16px}.xB0fq{height:40px;border:none;font-size:14px;background-color:#1a73e8;color:#fff;padding:0 16px;margin:0;vertical-align:top;cursor:pointer}.xB0fq:focus{border:1px solid #1a73e8}.M7pB2{border:thin solid #dadce0;margin:0 0 3px 0;font-size:13px;font-weight:500;height:40px}.euZec{width:100%;height:40px;text-align:center;border-spacing:0}table.euZec td{padding:0;width:25%}.QIqI7{display:inline-block;padding-top:4px;font-weight:bold;color:#4285f4}.EY24We{border-bottom:2px solid #4285f4}.CsQyDc{display:inline-block;color:#70757a}.TuS8Ad{font-size:14px}.HddGcc{padding:8px;color:#70757a}.dzp8ae{font-weight:bold;color:#3c4043}.rEM8G{color:#70757a}.bookcf{table-layout:fixed;width:100%;border-spacing:0}.InWNIe{text-align:center}.uZgmoc{border:thin solid #dadce0;color:#70757a;font-size:14px;text-align:center;table-layout:fixed;width:100%}.frGj1b{display:block;padding:12px 0 12px 0;width:100%}.BnJWBc{text-align:center;padding:6px 0 13px 0;height:35px}.e3goi{vertical-align:top;padding:0;height:180px}.GpQGbf{margin:auto;border-collapse:collapse;border-spacing:0;width:100%}</style></head><body><style>.X6ZCif{color:#202124;font-size:11px;line-height:16px;display:inline-block;padding-top:2px;overflow:hidden;padding-bottom:4px;width:100%}.TwVfHd{border-radius:16px;border:thin solid #dadce0;display:inline-block;padding:8px 8px;margin-right:8px;margin-bottom:4px}.yekiAe{background-color:#dadce0}.jjVJ4e{width:100%}.ezO2md{border:thin solid #dadce0;padding:12px 16px 12px 16px;margin-bottom:10px;font-family:arial,sans-serif}.lIMUZd{font-family:arial,sans-serif}.RntSmf{border-spacing:0}.lgD2Tc{width:100%}.SpelHe{text-align:center}.SpelHe{position:relative}.deHqpb{bottom:0;left:0;margin:auto;position:absolute;right:0;top:0}.kCmkOe{position:relative}.ID6Z3b{background-image:url(\"data:image/svg+xml, %3Csvg height='20' fill='#fff' viewBox='0 96 960 960' width='20' xmlns='http://www.w3.org/2000/svg'%3E%3Cpath d='M792 1000 624 834q-35 11-70.5 16.5T480 856q-151 0-269-83.5T40 556q21-53 53-98.5t73-81.5L56 264l56-56 736 736-56 56ZM480 736q11 0 20.5-1t20.5-4L305 515q-3 11-4 20.5t-1 20.5q0 75 52.5 127.5T480 736Zm292 18L645 628q7-17 11-34.5t4-37.5q0-75-52.5-127.5T480 376q-20 0-37.5 4T408 392L306 290q41-17 84-25.5t90-8.5q151 0 269 83.5T920 556q-23 59-60.5 109.5T772 754ZM587 570 467 450q28-5 51.5 4.5T559 482q17 18 24.5 41.5T587 570Z'%3E%3C/path%3E%3C/svg%3E\");background-repeat:no-repeat;background-position:center;background-size:20px}.kCmkOe{width:162px;height:140px;line-height:140px;overflow:'hidden';text-align:center}.DS1iW{text-align:center;margin:auto;vertical-align:middle;max-width:162px;max-height:140px}.AlD19d{padding-top:2px;padding-bottom:8px;}.fYyStc{word-break:break-word}.ynsChf{display:block;white-space:nowrap;overflow:hidden;text-overflow:ellipsis}.Fj3V3b{color:#1967d2;font-size:14px;line-height:20px}.FrIlee{color:#202124;font-size:11px;line-height:16px}.F9iS2e{color:#70757a;font-size:11px;line-height:16px}.WMQ2Le{color:#70757a;font-size:12px;line-height:16px}.x3G5ab{color:#202124;font-size:12px;line-height:16px}.fuLhoc{color:#1967d2;font-size:16px;line-height:20px}.epoveb{font-size:24px;line-height:28px;font-weight:400;color:#202124}.dXDvrc{color:#0d652d;font-size:14px;line-height:20px;word-wrap:break-word}.dloBPe{font-weight:bold}.YVIcad{color:#70757a}.JkVVdd{color:#ea4335}.oXZRFd{color:#ea4335}.MQHtg{color:#fbbc04}.pyMRrb{color:#1e8e3e}.EtTZid{color:#1e8e3e}.M3vVJe{color:#1967d2}.qXLe6d{display:block}.NHQNef{font-style:italic}.Cb8Z7c{white-space:pre}a.ZWRArf{text-decoration:none}a .CVA68e:hover{text-decoration:underline}</style><div class=\"n692Zd\"><div class=\"BnJWBc\"><a class=\"lXLRf\" href=\"/?sa=X&amp;sca_esv=564584496&amp;rlz=1C1CHBF_enIN918IN918&amp;biw=1280&amp;bih=563&amp;output=images&amp;ie=UTF-8&amp;tbm=isch&amp;ved=0ahUKEwj8iIXToKSBAxUlyzgGHczVCaEQPAgC\"><img alt=\"Google\" class=\"kgJEQe\" src=\"/images/branding/searchlogo/1x/googlelogo_desk_heirloom_color_150x55dp.gif\"/></a></div><div class=\"FbhRzb\"><form action=\"/search\"><input name=\"sca_esv\" type=\"hidden\" value=\"564584496\"/><input name=\"rlz\" type=\"hidden\" value=\"1C1CHBF_enIN918IN918\"/><input name=\"biw\" type=\"hidden\" value=\"1280\"/><input name=\"bih\" type=\"hidden\" value=\"563\"/><input name=\"ie\" type=\"hidden\" value=\"ISO-8859-1\"/><input name=\"tbm\" type=\"hidden\" value=\"isch\"/><input name=\"oq\" type=\"hidden\"/><input name=\"aqs\" type=\"hidden\"/><table class=\"cvifge\"><tr><td class=\"O4cRJf\"><input class=\"MhzMZd\" name=\"q\" type=\"text\" value=\"elon musk\"/></td><td class=\"O1ePr\"><input class=\"xB0fq\" type=\"submit\" value=\"Search\"/></td></tr></table></form></div><div class=\"M7pB2\"><table class=\"euZec\"><tbody><tr><td><a class=\"CsQyDc\" href=\"/search?q=elon+musk&amp;sca_esv=564584496&amp;rlz=1C1CHBF_enIN918IN918&amp;biw=1280&amp;bih=563&amp;ie=UTF-8&amp;source=lnms&amp;sa=X&amp;ved=0ahUKEwj8iIXToKSBAxUlyzgGHczVCaEQ_AUIBCgA\">ALL</a></td><td><a class=\"CsQyDc\" href=\"/search?q=elon+musk&amp;sca_esv=564584496&amp;rlz=1C1CHBF_enIN918IN918&amp;biw=1280&amp;bih=563&amp;ie=UTF-8&amp;tbm=nws&amp;source=lnms&amp;sa=X&amp;ved=0ahUKEwj8iIXToKSBAxUlyzgGHczVCaEQ_AUIBSgB\">NEWS</a></td><td class=\"EY24We\"><span class=\"QIqI7\">IMAGES</span></td><td><a class=\"CsQyDc\" href=\"/search?q=elon+musk&amp;sca_esv=564584496&amp;rlz=1C1CHBF_enIN918IN918&amp;biw=1280&amp;bih=563&amp;ie=UTF-8&amp;tbm=vid&amp;source=lnms&amp;sa=X&amp;ved=0ahUKEwj8iIXToKSBAxUlyzgGHczVCaEQ_AUIBygD\">VIDEOS</a></td></tr></tbody></table></div></div><div><table class=\"GpQGbf\"><tr><td align=\"center\" class=\"e3goi\"><div class=\"jjVJ4e\"> <div> <div class=\"lIMUZd\"><div><table class=\"RntSmf\"><tr><td><a href=\"/url?q=https://en.wikipedia.org/wiki/Elon_Musk&amp;sa=U&amp;ved=2ahUKEwj8iIXToKSBAxUlyzgGHczVCaEQqoUBegQIAxAB&amp;usg=AOvVaw2y_4kwWfBp0u_8rZNQvqFg\"><div class=\"kCmkOe\"><img alt=\"\" class=\"DS1iW\" src=\"https://encrypted-tbn0.gstatic.com/images?q=tbn:ANd9GcRhPqM6ot0ppohFd9xq_dvsEgS4MkC8IFvvspMKx4G7pW805J6uX2j9ZbbWMho&amp;s\"/></div></a></td></tr><tr><td><a href=\"/url?q=https://en.wikipedia.org/wiki/Elon_Musk&amp;sa=U&amp;ved=2ahUKEwj8iIXToKSBAxUlyzgGHczVCaEQr4kDegQIAxAC&amp;usg=AOvVaw29u3eSpZTwf50_IejaJw2u\"><div class=\"AlD19d\"> <span class=\"qXLe6d x3G5ab\"> <span class=\"fYyStc\">Elon Musk - Wikipedia</span> </span> <span class=\"qXLe6d F9iS2e\"> <span class=\"fYyStc\">en.wikipedia.org</span> </span> </div></a></td></tr></table></div></div> </div> </div></td><td align=\"center\" class=\"e3goi\"><div class=\"jjVJ4e\"> <div> <div class=\"lIMUZd\"><div><table class=\"RntSmf\"><tr><td><a href=\"/url?q=https://www.cnbc.com/2023/09/11/elon-musk-moved-twitter-servers-himself-in-the-night-new-biography-details-his-maniacal-sense-of-urgency.html&amp;sa=U&amp;ved=2ahUKEwj8iIXToKSBAxUlyzgGHczVCaEQqoUBegQIExAB&amp;usg=AOvVaw299HlDseoh0HimKr6PB_82\"><div class=\"kCmkOe\"><img alt=\"\" class=\"DS1iW\" src=\"https://encrypted-tbn0.gstatic.com/images?q=tbn:ANd9GcTyfAovNTQP5ALQ1Y-QbOPH6SReQet8pSd22pTGacqCEhTFC1iuqugTLTmuIew&amp;s\"/></div></a></td></tr><tr><td><a href=\"/url?q=https://www.cnbc.com/2023/09/11/elon-musk-moved-twitter-servers-himself-in-the-night-new-biography-details-his-maniacal-sense-of-urgency.html&amp;sa=U&amp;ved=2ahUKEwj8iIXToKSBAxUlyzgGHczVCaEQr4kDegQIExAC&amp;usg=AOvVaw0vLKsjYidld8nzpYt8o-_p\"><div class=\"AlD19d\"> <span class=\"qXLe6d x3G5ab\"> <span class=\"fYyStc\">Elon Musk moving servers...</span> </span> <span class=\"qXLe6d F9iS2e\"> <span class=\"fYyStc\">www.cnbc.com</span> </span> </div></a></td></tr></table></div></div> </div> </div></td><td align=\"center\" class=\"e3goi\"><div class=\"jjVJ4e\"> <div> <div class=\"lIMUZd\"><div><table class=\"RntSmf\"><tr><td><a href=\"/url?q=https://www.ndtv.com/world-news/elon-musk-says-he-blocked-ukraine-attack-on-russias-naval-fleet-4371856&amp;sa=U&amp;ved=2ahUKEwj8iIXToKSBAxUlyzgGHczVCaEQqoUBegQIEhAB&amp;usg=AOvVaw2c-Uk1cCSLPMiqOTwOnnjw\"><div class=\"kCmkOe\"><img alt=\"\" class=\"DS1iW\" src=\"https://encrypted-tbn0.gstatic.com/images?q=tbn:ANd9GcSMYNRVFWT78z1HfCjjsXyWHH40VRIwjNiYar3jQYHUhnaCQJZ6GSxCQ6cYto8&amp;s\"/></div></a></td></tr><tr><td><a href=\"/url?q=https://www.ndtv.com/world-news/elon-musk-says-he-blocked-ukraine-attack-on-russias-naval-fleet-4371856&amp;sa=U&amp;ved=2ahUKEwj8iIXToKSBAxUlyzgGHczVCaEQr4kDegQIEhAC&amp;usg=AOvVaw0xasaF7b-Oaz6lBwVK5dPX\"><div class=\"AlD19d\"> <span class=\"qXLe6d x3G5ab\"> <span class=\"fYyStc\">Elon Musk Says He Blocked...</span> </span> <span class=\"qXLe6d F9iS2e\"> <span class=\"fYyStc\">www.ndtv.com</span> </span> </div></a></td></tr></table></div></div> </div> </div></td><td align=\"center\" class=\"e3goi\"><div class=\"jjVJ4e\"> <div> <div class=\"lIMUZd\"><div><table class=\"RntSmf\"><tr><td><a href=\"/url?q=https://www.britannica.com/biography/Elon-Musk&amp;sa=U&amp;ved=2ahUKEwj8iIXToKSBAxUlyzgGHczVCaEQqoUBegQIEBAB&amp;usg=AOvVaw1jyzFp9MdzKEu4PADNH2OZ\"><div class=\"kCmkOe\"><img alt=\"\" class=\"DS1iW\" src=\"https://encrypted-tbn0.gstatic.com/images?q=tbn:ANd9GcQY_R5NSNoZkSlMo3hf86COGJ4fCv0s6Nx4k8uCGkWc6YGOn_m4-rIOQ3GhOhg&amp;s\"/></div></a></td></tr><tr><td><a href=\"/url?q=https://www.britannica.com/biography/Elon-Musk&amp;sa=U&amp;ved=2ahUKEwj8iIXToKSBAxUlyzgGHczVCaEQr4kDegQIEBAC&amp;usg=AOvVaw0JTLwoS7pGLatrGljF0Ulp\"><div class=\"AlD19d\"> <span class=\"qXLe6d x3G5ab\"> <span class=\"fYyStc\">Elon Musk | Biography,...</span> </span> <span class=\"qXLe6d F9iS2e\"> <span class=\"fYyStc\">www.britannica.com</span> </span> </div></a></td></tr></table></div></div> </div> </div></td></tr><tr><td align=\"center\" class=\"e3goi\"><div class=\"jjVJ4e\"> <div> <div class=\"lIMUZd\"><div><table class=\"RntSmf\"><tr><td><a href=\"/url?q=https://www.cnbc.com/2023/09/09/elon-musk-biographer-moves-to-clarify-details-on-ukraine-starlink.html&amp;sa=U&amp;ved=2ahUKEwj8iIXToKSBAxUlyzgGHczVCaEQqoUBegQIDhAB&amp;usg=AOvVaw3LCKqOPMg3XE0yEhRJWFjy\"><div class=\"kCmkOe\"><img alt=\"\" class=\"DS1iW\" src=\"https://encrypted-tbn0.gstatic.com/images?q=tbn:ANd9GcTvRhpVZcFwLql7ExVAzuzR-AxReSfck1xmO0e4M22euwDoLCezfdRw3xCiSYQ&amp;s\"/></div></a></td></tr><tr><td><a href=\"/url?q=https://www.cnbc.com/2023/09/09/elon-musk-biographer-moves-to-clarify-details-on-ukraine-starlink.html&amp;sa=U&amp;ved=2ahUKEwj8iIXToKSBAxUlyzgGHczVCaEQr4kDegQIDhAC&amp;usg=AOvVaw2-a9hnb_jb9Xx3ENgYGDZD\"><div class=\"AlD19d\"> <span class=\"qXLe6d x3G5ab\"> <span class=\"fYyStc\">Elon Musk biographer moves...</span> </span> <span class=\"qXLe6d F9iS2e\"> <span class=\"fYyStc\">www.cnbc.com</span> </span> </div></a></td></tr></table></div></div> </div> </div></td><td align=\"center\" class=\"e3goi\"><div class=\"jjVJ4e\"> <div> <div class=\"lIMUZd\"><div><table class=\"RntSmf\"><tr><td><a href=\"/url?q=https://abcnews.go.com/Business/timeline-elon-musks-tumultuous-twitter-acquisition-attempt/story%3Fid%3D86611191&amp;sa=U&amp;ved=2ahUKEwj8iIXToKSBAxUlyzgGHczVCaEQqoUBegQIERAB&amp;usg=AOvVaw0fmlIyRysRlcYmY9jbJbx0\"><div class=\"kCmkOe\"><img alt=\"\" class=\"DS1iW\" src=\"https://encrypted-tbn0.gstatic.com/images?q=tbn:ANd9GcRiUjYXnbLzwPnTzycn2ItHcUl6UbhYTYYF8JbaVC3rKLx4vjrTBnan-RRZq7Q&amp;s\"/></div></a></td></tr><tr><td><a href=\"/url?q=https://abcnews.go.com/Business/timeline-elon-musks-tumultuous-twitter-acquisition-attempt/story%3Fid%3D86611191&amp;sa=U&amp;ved=2ahUKEwj8iIXToKSBAxUlyzgGHczVCaEQr4kDegQIERAC&amp;usg=AOvVaw1dxEbmxrQvxf2pFEVAwdBS\"><div class=\"AlD19d\"> <span class=\"qXLe6d x3G5ab\"> <span class=\"fYyStc\">A timeline of Elon Musk's...</span> </span> <span class=\"qXLe6d F9iS2e\"> <span class=\"fYyStc\">abcnews.go.com</span> </span> </div></a></td></tr></table></div></div> </div> </div></td><td align=\"center\" class=\"e3goi\"><div class=\"jjVJ4e\"> <div> <div class=\"lIMUZd\"><div><table class=\"RntSmf\"><tr><td><a href=\"/url?q=https://www.pbs.org/newshour/economy/elon-musks-refusal-to-provide-starlink-support-for-ukraine-attack-in-crimea-raises-questions-for-pentagon&amp;sa=U&amp;ved=2ahUKEwj8iIXToKSBAxUlyzgGHczVCaEQqoUBegQICxAB&amp;usg=AOvVaw1VCr89r86BGfA7k68vV_Nr\"><div class=\"kCmkOe\"><img alt=\"\" class=\"DS1iW\" src=\"https://encrypted-tbn0.gstatic.com/images?q=tbn:ANd9GcSV4uhEWDSTaZqynhWvPLaef8w77YsAOyyT3qzpnWGh2paUQhAY7MrZg_b4vAM&amp;s\"/></div></a></td></tr><tr><td><a href=\"/url?q=https://www.pbs.org/newshour/economy/elon-musks-refusal-to-provide-starlink-support-for-ukraine-attack-in-crimea-raises-questions-for-pentagon&amp;sa=U&amp;ved=2ahUKEwj8iIXToKSBAxUlyzgGHczVCaEQr4kDegQICxAC&amp;usg=AOvVaw1L2SYvk_A2RSQp24oqaGsM\"><div class=\"AlD19d\"> <span class=\"qXLe6d x3G5ab\"> <span class=\"fYyStc\">Elon Musk's refusal to...</span> </span> <span class=\"qXLe6d F9iS2e\"> <span class=\"fYyStc\">www.pbs.org</span> </span> </div></a></td></tr></table></div></div> </div> </div></td><td align=\"center\" class=\"e3goi\"><div class=\"jjVJ4e\"> <div> <div class=\"lIMUZd\"><div><table class=\"RntSmf\"><tr><td><a href=\"/url?q=https://www.ndtv.com/world-news/elon-musk-committed-evil-by-stopping-attack-on-russia-claims-ukrainian-official-4373320&amp;sa=U&amp;ved=2ahUKEwj8iIXToKSBAxUlyzgGHczVCaEQqoUBegQIDxAB&amp;usg=AOvVaw0Qa8GtQu4KgkuIYpnoUTEy\"><div class=\"kCmkOe\"><img alt=\"\" class=\"DS1iW\" src=\"https://encrypted-tbn0.gstatic.com/images?q=tbn:ANd9GcQ4bZhNNVCbthTCApXsSNKWFth0vpsZ_6c-wVTFIV-E8ABkytP_9nqi4CCIWg&amp;s\"/></div></a></td></tr><tr><td><a href=\"/url?q=https://www.ndtv.com/world-news/elon-musk-committed-evil-by-stopping-attack-on-russia-claims-ukrainian-official-4373320&amp;sa=U&amp;ved=2ahUKEwj8iIXToKSBAxUlyzgGHczVCaEQr4kDegQIDxAC&amp;usg=AOvVaw08dFCQNXXHlF510-chDxNm\"><div class=\"AlD19d\"> <span class=\"qXLe6d x3G5ab\"> <span class=\"fYyStc\">Elon Musk \"Committed Evil\"...</span> </span> <span class=\"qXLe6d F9iS2e\"> <span class=\"fYyStc\">www.ndtv.com</span> </span> </div></a></td></tr></table></div></div> </div> </div></td></tr><tr><td align=\"center\" class=\"e3goi\"><div class=\"jjVJ4e\"> <div> <div class=\"lIMUZd\"><div><table class=\"RntSmf\"><tr><td><a href=\"/url?q=https://www.latimes.com/entertainment-arts/books/story/2023-09-10/elon-musk-grimes-third-child-techno-mechanicus-biography&amp;sa=U&amp;ved=2ahUKEwj8iIXToKSBAxUlyzgGHczVCaEQqoUBegQIDRAB&amp;usg=AOvVaw0KGWqO_5dAH5x7EvXsfmpU\"><div class=\"kCmkOe\"><img alt=\"\" class=\"DS1iW\" src=\"https://encrypted-tbn0.gstatic.com/images?q=tbn:ANd9GcQILx18FB2eFTKDNzNFxLhDfC3-YvK5XUT_gYQie2GvoccKnRP8mJEH6f-82SA&amp;s\"/></div></a></td></tr><tr><td><a href=\"/url?q=https://www.latimes.com/entertainment-arts/books/story/2023-09-10/elon-musk-grimes-third-child-techno-mechanicus-biography&amp;sa=U&amp;ved=2ahUKEwj8iIXToKSBAxUlyzgGHczVCaEQr4kDegQIDRAC&amp;usg=AOvVaw3zQ88T4-SYcY5XX4s9XwGC\"><div class=\"AlD19d\"> <span class=\"qXLe6d x3G5ab\"> <span class=\"fYyStc\">Elon Musk, Grimes have a...</span> </span> <span class=\"qXLe6d F9iS2e\"> <span class=\"fYyStc\">www.latimes.com</span> </span> </div></a></td></tr></table></div></div> </div> </div></td><td align=\"center\" class=\"e3goi\"><div class=\"jjVJ4e\"> <div> <div class=\"lIMUZd\"><div><table class=\"RntSmf\"><tr><td><a href=\"/url?q=https://fortune.com/2023/02/15/tesla-investors-elon-musk-plans-to-run-twitter-for-rest-of-2023/&amp;sa=U&amp;ved=2ahUKEwj8iIXToKSBAxUlyzgGHczVCaEQqoUBegQIDBAB&amp;usg=AOvVaw03WbfU9kwxAMiakCORc8ki\"><div class=\"kCmkOe\"><img alt=\"\" class=\"DS1iW\" src=\"https://encrypted-tbn0.gstatic.com/images?q=tbn:ANd9GcRYCmF-XSqL2tPMC3mKk03bbQ55sk3YnuQ0nSEGJl4khe_iBzbBD_G4yXmB2A&amp;s\"/></div></a></td></tr><tr><td><a href=\"/url?q=https://fortune.com/2023/02/15/tesla-investors-elon-musk-plans-to-run-twitter-for-rest-of-2023/&amp;sa=U&amp;ved=2ahUKEwj8iIXToKSBAxUlyzgGHczVCaEQr4kDegQIDBAC&amp;usg=AOvVaw0tTNXS77CIuBRoZZbAhkui\"><div class=\"AlD19d\"> <span class=\"qXLe6d x3G5ab\"> <span class=\"fYyStc\">Elon Musk will stay on as...</span> </span> <span class=\"qXLe6d F9iS2e\"> <span class=\"fYyStc\">fortune.com</span> </span> </div></a></td></tr></table></div></div> </div> </div></td><td align=\"center\" class=\"e3goi\"><div class=\"jjVJ4e\"> <div> <div class=\"lIMUZd\"><div><table class=\"RntSmf\"><tr><td><a href=\"/url?q=https://www.hindustantimes.com/world-news/the-tesla-ceo-elon-musk-hid-his-third-child-with-grimes-total-of-three-kids-new-biography-reveals-101694322837087.html&amp;sa=U&amp;ved=2ahUKEwj8iIXToKSBAxUlyzgGHczVCaEQqoUBegQIChAB&amp;usg=AOvVaw0h-ZdsY5rJP1CRsnH9LGPR\"><div class=\"kCmkOe\"><img alt=\"\" class=\"DS1iW\" src=\"https://encrypted-tbn0.gstatic.com/images?q=tbn:ANd9GcSZXjxrnJBTDUOwILfvaYppRSQRjEaYyjvFhLWmFBNFyZdKrxHoZWN4RXloYQ&amp;s\"/></div></a></td></tr><tr><td><a href=\"/url?q=https://www.hindustantimes.com/world-news/the-tesla-ceo-elon-musk-hid-his-third-child-with-grimes-total-of-three-kids-new-biography-reveals-101694322837087.html&amp;sa=U&amp;ved=2ahUKEwj8iIXToKSBAxUlyzgGHczVCaEQr4kDegQIChAC&amp;usg=AOvVaw2HHwWycT-rwVR-561fvcgU\"><div class=\"AlD19d\"> <span class=\"qXLe6d x3G5ab\"> <span class=\"fYyStc\">Elon Musk biography reveals...</span> </span> <span class=\"qXLe6d F9iS2e\"> <span class=\"fYyStc\">www.hindustantimes.com</span> </span> </div></a></td></tr></table></div></div> </div> </div></td><td align=\"center\" class=\"e3goi\"><div class=\"jjVJ4e\"> <div> <div class=\"lIMUZd\"><div><table class=\"RntSmf\"><tr><td><a href=\"/url?q=https://www.simonandschuster.com/books/Elon-Musk/Walter-Isaacson/9781982181284&amp;sa=U&amp;ved=2ahUKEwj8iIXToKSBAxUlyzgGHczVCaEQqoUBegQICRAB&amp;usg=AOvVaw2Sdirk2Nz0D7lhGg9RUidL\"><div class=\"kCmkOe\"><img alt=\"\" class=\"DS1iW\" src=\"https://encrypted-tbn0.gstatic.com/images?q=tbn:ANd9GcS6PtbO3oSFgC1yh6BPlre0Sr5h3aca6UrEmg7ibGUrD1g40Xm5cZBGYl7G3PU&amp;s\"/></div></a></td></tr><tr><td><a href=\"/url?q=https://www.simonandschuster.com/books/Elon-Musk/Walter-Isaacson/9781982181284&amp;sa=U&amp;ved=2ahUKEwj8iIXToKSBAxUlyzgGHczVCaEQr4kDegQICRAC&amp;usg=AOvVaw0PNZs2677VEU8vCl8QUVEY\"><div class=\"AlD19d\"> <span class=\"qXLe6d x3G5ab\"> <span class=\"fYyStc\">Elon Musk | Book by Walter...</span> </span> <span class=\"qXLe6d F9iS2e\"> <span class=\"fYyStc\">www.simonandschuster.com</span> </span> </div></a></td></tr></table></div></div> </div> </div></td></tr><tr><td align=\"center\" class=\"e3goi\"><div class=\"jjVJ4e\"> <div> <div class=\"lIMUZd\"><div><table class=\"RntSmf\"><tr><td><a href=\"/url?q=https://www.timesofisrael.com/netanyahu-said-set-to-meet-elon-musk-in-us-amid-antisemitism-feud-with-adl/&amp;sa=U&amp;ved=2ahUKEwj8iIXToKSBAxUlyzgGHczVCaEQqoUBegQIABAB&amp;usg=AOvVaw085zKVxcE6lZHfw_HZsBsC\"><div class=\"kCmkOe\"><img alt=\"\" class=\"DS1iW\" src=\"https://encrypted-tbn0.gstatic.com/images?q=tbn:ANd9GcTXJdAx4X70wDmpy0BmA9Ola4bDEvj6prc1QwTeelY6XLP0RqtCjaneBpiIxX8&amp;s\"/></div></a></td></tr><tr><td><a href=\"/url?q=https://www.timesofisrael.com/netanyahu-said-set-to-meet-elon-musk-in-us-amid-antisemitism-feud-with-adl/&amp;sa=U&amp;ved=2ahUKEwj8iIXToKSBAxUlyzgGHczVCaEQr4kDegQIABAC&amp;usg=AOvVaw2J5wgsIMucpsxMr5F8IKZS\"><div class=\"AlD19d\"> <span class=\"qXLe6d x3G5ab\"> <span class=\"fYyStc\">Netanyahu said set to meet...</span> </span> <span class=\"qXLe6d F9iS2e\"> <span class=\"fYyStc\">www.timesofisrael.com</span> </span> </div></a></td></tr></table></div></div> </div> </div></td><td align=\"center\" class=\"e3goi\"><div class=\"jjVJ4e\"> <div> <div class=\"lIMUZd\"><div><table class=\"RntSmf\"><tr><td><a href=\"/url?q=https://www.rollingstone.com/culture/culture-news/elon-musk-says-find-new-twitter-ceo-2023-1234680357/&amp;sa=U&amp;ved=2ahUKEwj8iIXToKSBAxUlyzgGHczVCaEQqoUBegQIBRAB&amp;usg=AOvVaw3x2WqqCLI29e1sQtfeQcXK\"><div class=\"kCmkOe\"><img alt=\"\" class=\"DS1iW\" src=\"https://encrypted-tbn0.gstatic.com/images?q=tbn:ANd9GcSwq0dm9LsIJFXhVpVi2-xb2VQSTdG7Tb92l9AIyKFFgrYonh1FnTbuvi-3Cw&amp;s\"/></div></a></td></tr><tr><td><a href=\"/url?q=https://www.rollingstone.com/culture/culture-news/elon-musk-says-find-new-twitter-ceo-2023-1234680357/&amp;sa=U&amp;ved=2ahUKEwj8iIXToKSBAxUlyzgGHczVCaEQr4kDegQIBRAC&amp;usg=AOvVaw3eOxazYpeb9ViAPzXWrfct\"><div class=\"AlD19d\"> <span class=\"qXLe6d x3G5ab\"> <span class=\"fYyStc\">Elon Musk Says He Wants New...</span> </span> <span class=\"qXLe6d F9iS2e\"> <span class=\"fYyStc\">www.rollingstone.com</span> </span> </div></a></td></tr></table></div></div> </div> </div></td><td align=\"center\" class=\"e3goi\"><div class=\"jjVJ4e\"> <div> <div class=\"lIMUZd\"><div><table class=\"RntSmf\"><tr><td><a href=\"/url?q=https://www.foxbusiness.com/business-leaders/bill-gates-says-elon-musk-super-mean-me-after-tesla-stock-feud&amp;sa=U&amp;ved=2ahUKEwj8iIXToKSBAxUlyzgGHczVCaEQqoUBegQIBxAB&amp;usg=AOvVaw2Mhkp3dYBhfh2tXraemQM1\"><div class=\"kCmkOe\"><img alt=\"\" class=\"DS1iW\" src=\"https://encrypted-tbn0.gstatic.com/images?q=tbn:ANd9GcTSnt6EZzBnbNNR6sB9mBBSoTXiSq8KnYrIYDqr9RwQxSJEGTBc_3uvyAWSUw&amp;s\"/></div></a></td></tr><tr><td><a href=\"/url?q=https://www.foxbusiness.com/business-leaders/bill-gates-says-elon-musk-super-mean-me-after-tesla-stock-feud&amp;sa=U&amp;ved=2ahUKEwj8iIXToKSBAxUlyzgGHczVCaEQr4kDegQIBxAC&amp;usg=AOvVaw3GyFjh3q3IH25GXtgFdb1u\"><div class=\"AlD19d\"> <span class=\"qXLe6d x3G5ab\"> <span class=\"fYyStc\">Bill Gates says Elon Musk...</span> </span> <span class=\"qXLe6d F9iS2e\"> <span class=\"fYyStc\">www.foxbusiness.com</span> </span> </div></a></td></tr></table></div></div> </div> </div></td><td align=\"center\" class=\"e3goi\"><div class=\"jjVJ4e\"> <div> <div class=\"lIMUZd\"><div><table class=\"RntSmf\"><tr><td><a href=\"/url?q=https://www.gadgets360.com/apps/news/elon-musk-new-hiring-twitter-ceo-announces-transition-cto-executive-chair-role-4027104&amp;sa=U&amp;ved=2ahUKEwj8iIXToKSBAxUlyzgGHczVCaEQqoUBegQICBAB&amp;usg=AOvVaw3U1xIGbLolG4DBsPspXQgd\"><div class=\"kCmkOe\"><img alt=\"\" class=\"DS1iW\" src=\"https://encrypted-tbn0.gstatic.com/images?q=tbn:ANd9GcRw_J9BJySt7qZQU_VDoChQCUmucErCccQXvZfhpmJRpUGcKo0MwzeEb5Gn-QY&amp;s\"/></div></a></td></tr><tr><td><a href=\"/url?q=https://www.gadgets360.com/apps/news/elon-musk-new-hiring-twitter-ceo-announces-transition-cto-executive-chair-role-4027104&amp;sa=U&amp;ved=2ahUKEwj8iIXToKSBAxUlyzgGHczVCaEQr4kDegQICBAC&amp;usg=AOvVaw21kAXtpSvR1LS6fRBZSnpx\"><div class=\"AlD19d\"> <span class=\"qXLe6d x3G5ab\"> <span class=\"fYyStc\">Elon Musk Hires New Twitter...</span> </span> <span class=\"qXLe6d F9iS2e\"> <span class=\"fYyStc\">www.gadgets360.com</span> </span> </div></a></td></tr></table></div></div> </div> </div></td></tr><tr><td align=\"center\" class=\"e3goi\"><div class=\"jjVJ4e\"> <div> <div class=\"lIMUZd\"><div><table class=\"RntSmf\"><tr><td><a href=\"/url?q=https://www.harpersbazaar.com/celebrity/latest/a30448348/grimes-pregnant-elon-musk/&amp;sa=U&amp;ved=2ahUKEwj8iIXToKSBAxUlyzgGHczVCaEQqoUBegQIBBAB&amp;usg=AOvVaw3Z0b5UwEOKNQhymE-wTUKt\"><div class=\"kCmkOe\"><img alt=\"\" class=\"DS1iW\" src=\"https://encrypted-tbn0.gstatic.com/images?q=tbn:ANd9GcQHSE-PYAWU4dhJhA72BdakAlr3GmCXFpnBdv078uAV6wZgeyToA82HlpSXBQ&amp;s\"/></div></a></td></tr><tr><td><a href=\"/url?q=https://www.harpersbazaar.com/celebrity/latest/a30448348/grimes-pregnant-elon-musk/&amp;sa=U&amp;ved=2ahUKEwj8iIXToKSBAxUlyzgGHczVCaEQr4kDegQIBBAC&amp;usg=AOvVaw3SR7X6pDAxfv7Q8O1Q9ZXj\"><div class=\"AlD19d\"> <span class=\"qXLe6d x3G5ab\"> <span class=\"fYyStc\">Grimes Confrims Elon Musk...</span> </span> <span class=\"qXLe6d F9iS2e\"> <span class=\"fYyStc\">www.harpersbazaar.com</span> </span> </div></a></td></tr></table></div></div> </div> </div></td><td align=\"center\" class=\"e3goi\"><div class=\"jjVJ4e\"> <div> <div class=\"lIMUZd\"><div><table class=\"RntSmf\"><tr><td><a href=\"/url?q=https://www.vanityfair.com/style/2023/09/elon-musk-third-kid-grimes&amp;sa=U&amp;ved=2ahUKEwj8iIXToKSBAxUlyzgGHczVCaEQqoUBegQIARAB&amp;usg=AOvVaw0UuTRakIzBzWeVGTLPXB2V\"><div class=\"kCmkOe\"><img alt=\"\" class=\"DS1iW\" src=\"https://encrypted-tbn0.gstatic.com/images?q=tbn:ANd9GcS2HPJBoNhP4tmZ-9hc3AyxgTDzqT-3FsObJKPh__Q-KFGFdHVxynog5HIh97Y&amp;s\"/></div></a></td></tr><tr><td><a href=\"/url?q=https://www.vanityfair.com/style/2023/09/elon-musk-third-kid-grimes&amp;sa=U&amp;ved=2ahUKEwj8iIXToKSBAxUlyzgGHczVCaEQr4kDegQIARAC&amp;usg=AOvVaw22HO1yufHXEWxMRns83Jvv\"><div class=\"AlD19d\"> <span class=\"qXLe6d x3G5ab\"> <span class=\"fYyStc\">Elon Musk Bio Reveals Third...</span> </span> <span class=\"qXLe6d F9iS2e\"> <span class=\"fYyStc\">www.vanityfair.com</span> </span> </div></a></td></tr></table></div></div> </div> </div></td><td align=\"center\" class=\"e3goi\"><div class=\"jjVJ4e\"> <div> <div class=\"lIMUZd\"><div><table class=\"RntSmf\"><tr><td><a href=\"/url?q=https://m.economictimes.com/magazines/panache/how-elon-musk-is-earning-close-to-rs-8-2-cr-a-year-from-his-personal-twitter-account/articleshow/99778693.cms&amp;sa=U&amp;ved=2ahUKEwj8iIXToKSBAxUlyzgGHczVCaEQqoUBegQIAhAB&amp;usg=AOvVaw3IDMMyCCEn1RNmhKzCr37r\"><div class=\"kCmkOe\"><img alt=\"\" class=\"DS1iW\" src=\"https://encrypted-tbn0.gstatic.com/images?q=tbn:ANd9GcQEY_QDHlrjMkWdokfVMbsTlwWwAwq8zS_t4RtPn_tFdzeiO6WoetuczahWPQ&amp;s\"/></div></a></td></tr><tr><td><a href=\"/url?q=https://m.economictimes.com/magazines/panache/how-elon-musk-is-earning-close-to-rs-8-2-cr-a-year-from-his-personal-twitter-account/articleshow/99778693.cms&amp;sa=U&amp;ved=2ahUKEwj8iIXToKSBAxUlyzgGHczVCaEQr4kDegQIAhAC&amp;usg=AOvVaw1yGxp5dw_rujACmSmkiVg0\"><div class=\"AlD19d\"> <span class=\"qXLe6d x3G5ab\"> <span class=\"fYyStc\">Elon Musk Earning: How Elon...</span> </span> <span class=\"qXLe6d F9iS2e\"> <span class=\"fYyStc\">m.economictimes.com</span> </span> </div></a></td></tr></table></div></div> </div> </div></td><td align=\"center\" class=\"e3goi\"><div class=\"jjVJ4e\"> <div> <div class=\"lIMUZd\"><div><table class=\"RntSmf\"><tr><td><a href=\"/url?q=https://www.cnbc.com/2023/07/15/elon-musk-says-twitter-cash-flow-remains-negative-with-heavy-debt-.html&amp;sa=U&amp;ved=2ahUKEwj8iIXToKSBAxUlyzgGHczVCaEQqoUBegQIBhAB&amp;usg=AOvVaw3gfFqnG2-fn43oWfAzUKtQ\"><div class=\"kCmkOe\"><img alt=\"\" class=\"DS1iW\" src=\"https://encrypted-tbn0.gstatic.com/images?q=tbn:ANd9GcTRO0vxd9Nq0U_78WuoKH8iKxiiJFWUeqXqZpwl5uSXNsoSD7E7LQ8t2SF7fA&amp;s\"/></div></a></td></tr><tr><td><a href=\"/url?q=https://www.cnbc.com/2023/07/15/elon-musk-says-twitter-cash-flow-remains-negative-with-heavy-debt-.html&amp;sa=U&amp;ved=2ahUKEwj8iIXToKSBAxUlyzgGHczVCaEQr4kDegQIBhAC&amp;usg=AOvVaw0wxoxLTVVbIROc5gTpCaHm\"><div class=\"AlD19d\"> <span class=\"qXLe6d x3G5ab\"> <span class=\"fYyStc\">Elon Musk says Twitter cash...</span> </span> <span class=\"qXLe6d F9iS2e\"> <span class=\"fYyStc\">www.cnbc.com</span> </span> </div></a></td></tr></table></div></div> </div> </div></td></tr></table></div><table class=\"uZgmoc\"><tbody><td><a class=\"frGj1b\" href=\"/search?q=elon+musk&amp;sca_esv=564584496&amp;rlz=1C1CHBF_enIN918IN918&amp;biw=1280&amp;bih=563&amp;ie=UTF-8&amp;tbm=isch&amp;ei=tev_ZLzaGqWW4-EPzKuniAo&amp;start=20&amp;sa=N\">Next &gt;</a></td></tbody></table><br/><div class=\"TuS8Ad\" data-ved=\"0ahUKEwj8iIXToKSBAxUlyzgGHczVCaEQpyoIRQ\"><style>.VYM29{font-weight:bold}</style><div align=\"center\" class=\"HddGcc\"><span class=\"VYM29\">764058, Odisha</span><span> - </span><span>From your IP address</span><span> - </span><a href=\"/url?q=https://support.google.com/websearch%3Fp%3Dws_settings_location%26hl%3Den-IN&amp;sa=U&amp;ved=0ahUKEwj8iIXToKSBAxUlyzgGHczVCaEQty4IRg&amp;usg=AOvVaw3n0axZqrNkuyBJ9pgHnbOL\">Learn more</a></div><div align=\"center\"><a class=\"rEM8G\" href=\"/url?q=https://accounts.google.com/ServiceLogin%3Fcontinue%3Dhttps://www.google.com/search%253Fsca_esv%253D564584496%2526rlz%253D1C1CHBF_enIN918IN918%2526sxsrf%253DAB5stBgkVVTkREY-cmoEaLqnVqkNVngaTw:1694493526260%2526q%253Delon%252Bmusk%2526tbm%253Disch%2526source%253Dlnms%2526sa%253DX%2526ved%253D2ahUKEwjut9OloKSBAxUsSGwGHdSmCGUQ0pQJegQIDRAB%2526biw%253D1280%2526bih%253D563%2526dpr%253D1.5%26hl%3Den&amp;sa=U&amp;ved=0ahUKEwj8iIXToKSBAxUlyzgGHczVCaEQxs8CCEc&amp;usg=AOvVaw3cmmSvdM-9T1m1NBCT58QP\">Sign in</a></div><div><table class=\"bookcf\"><tbody class=\"InWNIe\"><tr><td><a class=\"rEM8G\" href=\"https://www.google.com/preferences?hl=en&amp;sa=X&amp;ved=0ahUKEwj8iIXToKSBAxUlyzgGHczVCaEQv5YECEg\">Settings</a></td><td><a class=\"rEM8G\" href=\"https://www.google.com/intl/en_in/policies/privacy/\">Privacy</a></td><td><a class=\"rEM8G\" href=\"https://www.google.com/intl/en_in/policies/terms/\">Terms</a></td></tr></tbody></table></div></div><div> </div></body></html>"
      ]
     },
     "execution_count": 23,
     "metadata": {},
     "output_type": "execute_result"
    }
   ],
   "source": [
    "soup   #html.parser is for proper alignment of html content"
   ]
  },
  {
   "cell_type": "code",
   "execution_count": 24,
   "id": "3698d16a",
   "metadata": {},
   "outputs": [],
   "source": [
    "image_tags=soup.find_all(\"img\")"
   ]
  },
  {
   "cell_type": "code",
   "execution_count": 25,
   "id": "8ac1c03f",
   "metadata": {},
   "outputs": [
    {
     "data": {
      "text/plain": [
       "[<img alt=\"Google\" class=\"kgJEQe\" src=\"/images/branding/searchlogo/1x/googlelogo_desk_heirloom_color_150x55dp.gif\"/>,\n",
       " <img alt=\"\" class=\"DS1iW\" src=\"https://encrypted-tbn0.gstatic.com/images?q=tbn:ANd9GcRhPqM6ot0ppohFd9xq_dvsEgS4MkC8IFvvspMKx4G7pW805J6uX2j9ZbbWMho&amp;s\"/>,\n",
       " <img alt=\"\" class=\"DS1iW\" src=\"https://encrypted-tbn0.gstatic.com/images?q=tbn:ANd9GcTyfAovNTQP5ALQ1Y-QbOPH6SReQet8pSd22pTGacqCEhTFC1iuqugTLTmuIew&amp;s\"/>,\n",
       " <img alt=\"\" class=\"DS1iW\" src=\"https://encrypted-tbn0.gstatic.com/images?q=tbn:ANd9GcSMYNRVFWT78z1HfCjjsXyWHH40VRIwjNiYar3jQYHUhnaCQJZ6GSxCQ6cYto8&amp;s\"/>,\n",
       " <img alt=\"\" class=\"DS1iW\" src=\"https://encrypted-tbn0.gstatic.com/images?q=tbn:ANd9GcQY_R5NSNoZkSlMo3hf86COGJ4fCv0s6Nx4k8uCGkWc6YGOn_m4-rIOQ3GhOhg&amp;s\"/>,\n",
       " <img alt=\"\" class=\"DS1iW\" src=\"https://encrypted-tbn0.gstatic.com/images?q=tbn:ANd9GcTvRhpVZcFwLql7ExVAzuzR-AxReSfck1xmO0e4M22euwDoLCezfdRw3xCiSYQ&amp;s\"/>,\n",
       " <img alt=\"\" class=\"DS1iW\" src=\"https://encrypted-tbn0.gstatic.com/images?q=tbn:ANd9GcRiUjYXnbLzwPnTzycn2ItHcUl6UbhYTYYF8JbaVC3rKLx4vjrTBnan-RRZq7Q&amp;s\"/>,\n",
       " <img alt=\"\" class=\"DS1iW\" src=\"https://encrypted-tbn0.gstatic.com/images?q=tbn:ANd9GcSV4uhEWDSTaZqynhWvPLaef8w77YsAOyyT3qzpnWGh2paUQhAY7MrZg_b4vAM&amp;s\"/>,\n",
       " <img alt=\"\" class=\"DS1iW\" src=\"https://encrypted-tbn0.gstatic.com/images?q=tbn:ANd9GcQ4bZhNNVCbthTCApXsSNKWFth0vpsZ_6c-wVTFIV-E8ABkytP_9nqi4CCIWg&amp;s\"/>,\n",
       " <img alt=\"\" class=\"DS1iW\" src=\"https://encrypted-tbn0.gstatic.com/images?q=tbn:ANd9GcQILx18FB2eFTKDNzNFxLhDfC3-YvK5XUT_gYQie2GvoccKnRP8mJEH6f-82SA&amp;s\"/>,\n",
       " <img alt=\"\" class=\"DS1iW\" src=\"https://encrypted-tbn0.gstatic.com/images?q=tbn:ANd9GcRYCmF-XSqL2tPMC3mKk03bbQ55sk3YnuQ0nSEGJl4khe_iBzbBD_G4yXmB2A&amp;s\"/>,\n",
       " <img alt=\"\" class=\"DS1iW\" src=\"https://encrypted-tbn0.gstatic.com/images?q=tbn:ANd9GcSZXjxrnJBTDUOwILfvaYppRSQRjEaYyjvFhLWmFBNFyZdKrxHoZWN4RXloYQ&amp;s\"/>,\n",
       " <img alt=\"\" class=\"DS1iW\" src=\"https://encrypted-tbn0.gstatic.com/images?q=tbn:ANd9GcS6PtbO3oSFgC1yh6BPlre0Sr5h3aca6UrEmg7ibGUrD1g40Xm5cZBGYl7G3PU&amp;s\"/>,\n",
       " <img alt=\"\" class=\"DS1iW\" src=\"https://encrypted-tbn0.gstatic.com/images?q=tbn:ANd9GcTXJdAx4X70wDmpy0BmA9Ola4bDEvj6prc1QwTeelY6XLP0RqtCjaneBpiIxX8&amp;s\"/>,\n",
       " <img alt=\"\" class=\"DS1iW\" src=\"https://encrypted-tbn0.gstatic.com/images?q=tbn:ANd9GcSwq0dm9LsIJFXhVpVi2-xb2VQSTdG7Tb92l9AIyKFFgrYonh1FnTbuvi-3Cw&amp;s\"/>,\n",
       " <img alt=\"\" class=\"DS1iW\" src=\"https://encrypted-tbn0.gstatic.com/images?q=tbn:ANd9GcTSnt6EZzBnbNNR6sB9mBBSoTXiSq8KnYrIYDqr9RwQxSJEGTBc_3uvyAWSUw&amp;s\"/>,\n",
       " <img alt=\"\" class=\"DS1iW\" src=\"https://encrypted-tbn0.gstatic.com/images?q=tbn:ANd9GcRw_J9BJySt7qZQU_VDoChQCUmucErCccQXvZfhpmJRpUGcKo0MwzeEb5Gn-QY&amp;s\"/>,\n",
       " <img alt=\"\" class=\"DS1iW\" src=\"https://encrypted-tbn0.gstatic.com/images?q=tbn:ANd9GcQHSE-PYAWU4dhJhA72BdakAlr3GmCXFpnBdv078uAV6wZgeyToA82HlpSXBQ&amp;s\"/>,\n",
       " <img alt=\"\" class=\"DS1iW\" src=\"https://encrypted-tbn0.gstatic.com/images?q=tbn:ANd9GcS2HPJBoNhP4tmZ-9hc3AyxgTDzqT-3FsObJKPh__Q-KFGFdHVxynog5HIh97Y&amp;s\"/>,\n",
       " <img alt=\"\" class=\"DS1iW\" src=\"https://encrypted-tbn0.gstatic.com/images?q=tbn:ANd9GcQEY_QDHlrjMkWdokfVMbsTlwWwAwq8zS_t4RtPn_tFdzeiO6WoetuczahWPQ&amp;s\"/>,\n",
       " <img alt=\"\" class=\"DS1iW\" src=\"https://encrypted-tbn0.gstatic.com/images?q=tbn:ANd9GcTRO0vxd9Nq0U_78WuoKH8iKxiiJFWUeqXqZpwl5uSXNsoSD7E7LQ8t2SF7fA&amp;s\"/>]"
      ]
     },
     "execution_count": 25,
     "metadata": {},
     "output_type": "execute_result"
    }
   ],
   "source": [
    "image_tags"
   ]
  },
  {
   "cell_type": "code",
   "execution_count": 26,
   "id": "88be37d1",
   "metadata": {},
   "outputs": [
    {
     "data": {
      "text/plain": [
       "21"
      ]
     },
     "execution_count": 26,
     "metadata": {},
     "output_type": "execute_result"
    }
   ],
   "source": [
    "len(image_tags)"
   ]
  },
  {
   "cell_type": "code",
   "execution_count": 27,
   "id": "71cabaf1",
   "metadata": {},
   "outputs": [],
   "source": [
    "del image_tags[0]"
   ]
  },
  {
   "cell_type": "code",
   "execution_count": 28,
   "id": "b70517bc",
   "metadata": {},
   "outputs": [
    {
     "data": {
      "text/plain": [
       "20"
      ]
     },
     "execution_count": 28,
     "metadata": {},
     "output_type": "execute_result"
    }
   ],
   "source": [
    "len(image_tags)"
   ]
  },
  {
   "cell_type": "code",
   "execution_count": 29,
   "id": "b8a4c728",
   "metadata": {},
   "outputs": [
    {
     "name": "stdout",
     "output_type": "stream",
     "text": [
      "https://encrypted-tbn0.gstatic.com/images?q=tbn:ANd9GcRhPqM6ot0ppohFd9xq_dvsEgS4MkC8IFvvspMKx4G7pW805J6uX2j9ZbbWMho&s\n",
      "https://encrypted-tbn0.gstatic.com/images?q=tbn:ANd9GcTyfAovNTQP5ALQ1Y-QbOPH6SReQet8pSd22pTGacqCEhTFC1iuqugTLTmuIew&s\n",
      "https://encrypted-tbn0.gstatic.com/images?q=tbn:ANd9GcSMYNRVFWT78z1HfCjjsXyWHH40VRIwjNiYar3jQYHUhnaCQJZ6GSxCQ6cYto8&s\n",
      "https://encrypted-tbn0.gstatic.com/images?q=tbn:ANd9GcQY_R5NSNoZkSlMo3hf86COGJ4fCv0s6Nx4k8uCGkWc6YGOn_m4-rIOQ3GhOhg&s\n",
      "https://encrypted-tbn0.gstatic.com/images?q=tbn:ANd9GcTvRhpVZcFwLql7ExVAzuzR-AxReSfck1xmO0e4M22euwDoLCezfdRw3xCiSYQ&s\n",
      "https://encrypted-tbn0.gstatic.com/images?q=tbn:ANd9GcRiUjYXnbLzwPnTzycn2ItHcUl6UbhYTYYF8JbaVC3rKLx4vjrTBnan-RRZq7Q&s\n",
      "https://encrypted-tbn0.gstatic.com/images?q=tbn:ANd9GcSV4uhEWDSTaZqynhWvPLaef8w77YsAOyyT3qzpnWGh2paUQhAY7MrZg_b4vAM&s\n",
      "https://encrypted-tbn0.gstatic.com/images?q=tbn:ANd9GcQ4bZhNNVCbthTCApXsSNKWFth0vpsZ_6c-wVTFIV-E8ABkytP_9nqi4CCIWg&s\n",
      "https://encrypted-tbn0.gstatic.com/images?q=tbn:ANd9GcQILx18FB2eFTKDNzNFxLhDfC3-YvK5XUT_gYQie2GvoccKnRP8mJEH6f-82SA&s\n",
      "https://encrypted-tbn0.gstatic.com/images?q=tbn:ANd9GcRYCmF-XSqL2tPMC3mKk03bbQ55sk3YnuQ0nSEGJl4khe_iBzbBD_G4yXmB2A&s\n",
      "https://encrypted-tbn0.gstatic.com/images?q=tbn:ANd9GcSZXjxrnJBTDUOwILfvaYppRSQRjEaYyjvFhLWmFBNFyZdKrxHoZWN4RXloYQ&s\n",
      "https://encrypted-tbn0.gstatic.com/images?q=tbn:ANd9GcS6PtbO3oSFgC1yh6BPlre0Sr5h3aca6UrEmg7ibGUrD1g40Xm5cZBGYl7G3PU&s\n",
      "https://encrypted-tbn0.gstatic.com/images?q=tbn:ANd9GcTXJdAx4X70wDmpy0BmA9Ola4bDEvj6prc1QwTeelY6XLP0RqtCjaneBpiIxX8&s\n",
      "https://encrypted-tbn0.gstatic.com/images?q=tbn:ANd9GcSwq0dm9LsIJFXhVpVi2-xb2VQSTdG7Tb92l9AIyKFFgrYonh1FnTbuvi-3Cw&s\n",
      "https://encrypted-tbn0.gstatic.com/images?q=tbn:ANd9GcTSnt6EZzBnbNNR6sB9mBBSoTXiSq8KnYrIYDqr9RwQxSJEGTBc_3uvyAWSUw&s\n",
      "https://encrypted-tbn0.gstatic.com/images?q=tbn:ANd9GcRw_J9BJySt7qZQU_VDoChQCUmucErCccQXvZfhpmJRpUGcKo0MwzeEb5Gn-QY&s\n",
      "https://encrypted-tbn0.gstatic.com/images?q=tbn:ANd9GcQHSE-PYAWU4dhJhA72BdakAlr3GmCXFpnBdv078uAV6wZgeyToA82HlpSXBQ&s\n",
      "https://encrypted-tbn0.gstatic.com/images?q=tbn:ANd9GcS2HPJBoNhP4tmZ-9hc3AyxgTDzqT-3FsObJKPh__Q-KFGFdHVxynog5HIh97Y&s\n",
      "https://encrypted-tbn0.gstatic.com/images?q=tbn:ANd9GcQEY_QDHlrjMkWdokfVMbsTlwWwAwq8zS_t4RtPn_tFdzeiO6WoetuczahWPQ&s\n",
      "https://encrypted-tbn0.gstatic.com/images?q=tbn:ANd9GcTRO0vxd9Nq0U_78WuoKH8iKxiiJFWUeqXqZpwl5uSXNsoSD7E7LQ8t2SF7fA&s\n"
     ]
    }
   ],
   "source": [
    "for i in image_tags:\n",
    "    print(i['src'])"
   ]
  },
  {
   "cell_type": "code",
   "execution_count": 32,
   "id": "07f7a535",
   "metadata": {},
   "outputs": [],
   "source": [
    "for i in image_tags:\n",
    "    image_url = i['src']\n",
    "    image_data = requests.get(image_url).content\n",
    "    with open(os.path.join(save_dir, f\"{query}_{image_tags.index(i)}.jpg\"),\"wb\") as f:\n",
    "        f.write(image_data)"
   ]
  },
  {
   "cell_type": "code",
   "execution_count": null,
   "id": "b615909d",
   "metadata": {},
   "outputs": [],
   "source": []
  }
 ],
 "metadata": {
  "kernelspec": {
   "display_name": "Python 3 (ipykernel)",
   "language": "python",
   "name": "python3"
  },
  "language_info": {
   "codemirror_mode": {
    "name": "ipython",
    "version": 3
   },
   "file_extension": ".py",
   "mimetype": "text/x-python",
   "name": "python",
   "nbconvert_exporter": "python",
   "pygments_lexer": "ipython3",
   "version": "3.11.3"
  }
 },
 "nbformat": 4,
 "nbformat_minor": 5
}
